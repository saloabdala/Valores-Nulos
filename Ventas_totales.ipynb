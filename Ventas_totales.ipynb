{
  "nbformat": 4,
  "nbformat_minor": 0,
  "metadata": {
    "colab": {
      "provenance": [],
      "authorship_tag": "ABX9TyOetjkdnU2wNt5B/Kj6FSZV",
      "include_colab_link": true
    },
    "kernelspec": {
      "name": "python3",
      "display_name": "Python 3"
    },
    "language_info": {
      "name": "python"
    }
  },
  "cells": [
    {
      "cell_type": "markdown",
      "metadata": {
        "id": "view-in-github",
        "colab_type": "text"
      },
      "source": [
        "<a href=\"https://colab.research.google.com/github/saloabdala/Valores-Nulos/blob/main/Ventas_totales.ipynb\" target=\"_parent\"><img src=\"https://colab.research.google.com/assets/colab-badge.svg\" alt=\"Open In Colab\"/></a>"
      ]
    },
    {
      "cell_type": "code",
      "execution_count": 2,
      "metadata": {
        "id": "hXSimkGLm7QX"
      },
      "outputs": [],
      "source": [
        "#Importamos las librerías pandas, numpy y matplotlib respecitvamente\n",
        "import pandas as pd\n",
        "import numpy as np\n",
        "import matplotlib.pyplot as plt"
      ]
    },
    {
      "cell_type": "code",
      "source": [
        "#Cargar archivo csv desde equipo\n",
        "from google.colab import files\n",
        "files.upload()"
      ],
      "metadata": {
        "id": "sUcdkLBHn2aa"
      },
      "execution_count": null,
      "outputs": []
    },
    {
      "cell_type": "code",
      "source": [
        "#Carga desde un archivo .csv sin indice\n",
        "data=pd.read_csv(\"Ventas_totales.csv\")\n",
        "data.head(5)"
      ],
      "metadata": {
        "colab": {
          "base_uri": "https://localhost:8080/",
          "height": 299
        },
        "id": "pSxvjfbFn7Un",
        "outputId": "c9037dd1-9450-4778-a575-d4a9b27530f4"
      },
      "execution_count": 4,
      "outputs": [
        {
          "output_type": "execute_result",
          "data": {
            "text/plain": [
              "  indice_tiempo  ventas_precios_corrientes  ventas_precios_constantes  \\\n",
              "0    01/01/2017                    27858.9                    27477.3   \n",
              "1    01/02/2017                    25994.2                    25223.4   \n",
              "2    01/03/2017                    27780.0                    26334.3   \n",
              "3    01/04/2017                    29134.3                    27045.9   \n",
              "4    01/05/2017                    27969.0                    25631.9   \n",
              "\n",
              "   ventas_totales_canal_venta  salon_ventas  canales_on_line  \\\n",
              "0                 27858872.08   27591730.13       267141.956   \n",
              "1                 25994200.17   25749179.40       245020.769   \n",
              "2                 27780006.52   27472228.72       307777.804   \n",
              "3                 29134272.22   28827479.49       306792.733   \n",
              "4                 27969004.68   27569311.41       399693.262   \n",
              "\n",
              "   ventas_totales_medio_pago      efectivo  tarjetas_debito  tarjetas_credito  \\\n",
              "0                27858872.08  1.023010e+07      6864575.384       9047205.493   \n",
              "1                25994200.17  9.719067e+06      6438494.011       8309150.301   \n",
              "2                27780006.52  1.024444e+07      6908522.962       8845010.494   \n",
              "3                29134272.22  1.031263e+07      7454251.800       9458166.682   \n",
              "4                27969004.68  1.014761e+07      6735747.319       9220929.862   \n",
              "\n",
              "   ...      almacen     panaderia      lacteos       carnes  \\\n",
              "0  ...  6705475.318  9.459063e+05  2880656.169  2606192.942   \n",
              "1  ...  6576624.803  9.256186e+05  2855639.900  2600083.591   \n",
              "2  ...  7437264.174  1.016148e+06  3188259.169  2824976.726   \n",
              "3  ...  8211244.093  1.132396e+06  3257140.159  3006158.760   \n",
              "4  ...  7651058.084  1.033082e+06  3232635.767  2799142.123   \n",
              "\n",
              "   verduleria_fruteria  alimentos_preparados_rotiseria  \\\n",
              "0         1.050314e+06                     340777.3882   \n",
              "1         1.026167e+06                     328288.6951   \n",
              "2         1.075526e+06                     353335.1548   \n",
              "3         1.037213e+06                     359694.4537   \n",
              "4         9.826512e+05                     336568.0085   \n",
              "\n",
              "   articulos_limpieza_perfumeria  indumentaria_calzado_textiles_hogar  \\\n",
              "0                    4397543.671                          772371.8476   \n",
              "1                    4053283.771                          672290.5165   \n",
              "2                    4354197.611                          667696.6653   \n",
              "3                    4355706.646                          838948.2458   \n",
              "4                    4206101.605                          915895.1498   \n",
              "\n",
              "   electronicos_articulos_hogar        otros  \n",
              "0                   1838507.096  2806660.309  \n",
              "1                   1257661.903  2354084.901  \n",
              "2                   1305674.917  2266189.277  \n",
              "3                   1535726.345  2146755.887  \n",
              "4                   1824462.036  2117971.483  \n",
              "\n",
              "[5 rows x 24 columns]"
            ],
            "text/html": [
              "\n",
              "  <div id=\"df-08b42a28-49f8-42c2-813f-4a77d8279a28\">\n",
              "    <div class=\"colab-df-container\">\n",
              "      <div>\n",
              "<style scoped>\n",
              "    .dataframe tbody tr th:only-of-type {\n",
              "        vertical-align: middle;\n",
              "    }\n",
              "\n",
              "    .dataframe tbody tr th {\n",
              "        vertical-align: top;\n",
              "    }\n",
              "\n",
              "    .dataframe thead th {\n",
              "        text-align: right;\n",
              "    }\n",
              "</style>\n",
              "<table border=\"1\" class=\"dataframe\">\n",
              "  <thead>\n",
              "    <tr style=\"text-align: right;\">\n",
              "      <th></th>\n",
              "      <th>indice_tiempo</th>\n",
              "      <th>ventas_precios_corrientes</th>\n",
              "      <th>ventas_precios_constantes</th>\n",
              "      <th>ventas_totales_canal_venta</th>\n",
              "      <th>salon_ventas</th>\n",
              "      <th>canales_on_line</th>\n",
              "      <th>ventas_totales_medio_pago</th>\n",
              "      <th>efectivo</th>\n",
              "      <th>tarjetas_debito</th>\n",
              "      <th>tarjetas_credito</th>\n",
              "      <th>...</th>\n",
              "      <th>almacen</th>\n",
              "      <th>panaderia</th>\n",
              "      <th>lacteos</th>\n",
              "      <th>carnes</th>\n",
              "      <th>verduleria_fruteria</th>\n",
              "      <th>alimentos_preparados_rotiseria</th>\n",
              "      <th>articulos_limpieza_perfumeria</th>\n",
              "      <th>indumentaria_calzado_textiles_hogar</th>\n",
              "      <th>electronicos_articulos_hogar</th>\n",
              "      <th>otros</th>\n",
              "    </tr>\n",
              "  </thead>\n",
              "  <tbody>\n",
              "    <tr>\n",
              "      <th>0</th>\n",
              "      <td>01/01/2017</td>\n",
              "      <td>27858.9</td>\n",
              "      <td>27477.3</td>\n",
              "      <td>27858872.08</td>\n",
              "      <td>27591730.13</td>\n",
              "      <td>267141.956</td>\n",
              "      <td>27858872.08</td>\n",
              "      <td>1.023010e+07</td>\n",
              "      <td>6864575.384</td>\n",
              "      <td>9047205.493</td>\n",
              "      <td>...</td>\n",
              "      <td>6705475.318</td>\n",
              "      <td>9.459063e+05</td>\n",
              "      <td>2880656.169</td>\n",
              "      <td>2606192.942</td>\n",
              "      <td>1.050314e+06</td>\n",
              "      <td>340777.3882</td>\n",
              "      <td>4397543.671</td>\n",
              "      <td>772371.8476</td>\n",
              "      <td>1838507.096</td>\n",
              "      <td>2806660.309</td>\n",
              "    </tr>\n",
              "    <tr>\n",
              "      <th>1</th>\n",
              "      <td>01/02/2017</td>\n",
              "      <td>25994.2</td>\n",
              "      <td>25223.4</td>\n",
              "      <td>25994200.17</td>\n",
              "      <td>25749179.40</td>\n",
              "      <td>245020.769</td>\n",
              "      <td>25994200.17</td>\n",
              "      <td>9.719067e+06</td>\n",
              "      <td>6438494.011</td>\n",
              "      <td>8309150.301</td>\n",
              "      <td>...</td>\n",
              "      <td>6576624.803</td>\n",
              "      <td>9.256186e+05</td>\n",
              "      <td>2855639.900</td>\n",
              "      <td>2600083.591</td>\n",
              "      <td>1.026167e+06</td>\n",
              "      <td>328288.6951</td>\n",
              "      <td>4053283.771</td>\n",
              "      <td>672290.5165</td>\n",
              "      <td>1257661.903</td>\n",
              "      <td>2354084.901</td>\n",
              "    </tr>\n",
              "    <tr>\n",
              "      <th>2</th>\n",
              "      <td>01/03/2017</td>\n",
              "      <td>27780.0</td>\n",
              "      <td>26334.3</td>\n",
              "      <td>27780006.52</td>\n",
              "      <td>27472228.72</td>\n",
              "      <td>307777.804</td>\n",
              "      <td>27780006.52</td>\n",
              "      <td>1.024444e+07</td>\n",
              "      <td>6908522.962</td>\n",
              "      <td>8845010.494</td>\n",
              "      <td>...</td>\n",
              "      <td>7437264.174</td>\n",
              "      <td>1.016148e+06</td>\n",
              "      <td>3188259.169</td>\n",
              "      <td>2824976.726</td>\n",
              "      <td>1.075526e+06</td>\n",
              "      <td>353335.1548</td>\n",
              "      <td>4354197.611</td>\n",
              "      <td>667696.6653</td>\n",
              "      <td>1305674.917</td>\n",
              "      <td>2266189.277</td>\n",
              "    </tr>\n",
              "    <tr>\n",
              "      <th>3</th>\n",
              "      <td>01/04/2017</td>\n",
              "      <td>29134.3</td>\n",
              "      <td>27045.9</td>\n",
              "      <td>29134272.22</td>\n",
              "      <td>28827479.49</td>\n",
              "      <td>306792.733</td>\n",
              "      <td>29134272.22</td>\n",
              "      <td>1.031263e+07</td>\n",
              "      <td>7454251.800</td>\n",
              "      <td>9458166.682</td>\n",
              "      <td>...</td>\n",
              "      <td>8211244.093</td>\n",
              "      <td>1.132396e+06</td>\n",
              "      <td>3257140.159</td>\n",
              "      <td>3006158.760</td>\n",
              "      <td>1.037213e+06</td>\n",
              "      <td>359694.4537</td>\n",
              "      <td>4355706.646</td>\n",
              "      <td>838948.2458</td>\n",
              "      <td>1535726.345</td>\n",
              "      <td>2146755.887</td>\n",
              "    </tr>\n",
              "    <tr>\n",
              "      <th>4</th>\n",
              "      <td>01/05/2017</td>\n",
              "      <td>27969.0</td>\n",
              "      <td>25631.9</td>\n",
              "      <td>27969004.68</td>\n",
              "      <td>27569311.41</td>\n",
              "      <td>399693.262</td>\n",
              "      <td>27969004.68</td>\n",
              "      <td>1.014761e+07</td>\n",
              "      <td>6735747.319</td>\n",
              "      <td>9220929.862</td>\n",
              "      <td>...</td>\n",
              "      <td>7651058.084</td>\n",
              "      <td>1.033082e+06</td>\n",
              "      <td>3232635.767</td>\n",
              "      <td>2799142.123</td>\n",
              "      <td>9.826512e+05</td>\n",
              "      <td>336568.0085</td>\n",
              "      <td>4206101.605</td>\n",
              "      <td>915895.1498</td>\n",
              "      <td>1824462.036</td>\n",
              "      <td>2117971.483</td>\n",
              "    </tr>\n",
              "  </tbody>\n",
              "</table>\n",
              "<p>5 rows × 24 columns</p>\n",
              "</div>\n",
              "      <button class=\"colab-df-convert\" onclick=\"convertToInteractive('df-08b42a28-49f8-42c2-813f-4a77d8279a28')\"\n",
              "              title=\"Convert this dataframe to an interactive table.\"\n",
              "              style=\"display:none;\">\n",
              "        \n",
              "  <svg xmlns=\"http://www.w3.org/2000/svg\" height=\"24px\"viewBox=\"0 0 24 24\"\n",
              "       width=\"24px\">\n",
              "    <path d=\"M0 0h24v24H0V0z\" fill=\"none\"/>\n",
              "    <path d=\"M18.56 5.44l.94 2.06.94-2.06 2.06-.94-2.06-.94-.94-2.06-.94 2.06-2.06.94zm-11 1L8.5 8.5l.94-2.06 2.06-.94-2.06-.94L8.5 2.5l-.94 2.06-2.06.94zm10 10l.94 2.06.94-2.06 2.06-.94-2.06-.94-.94-2.06-.94 2.06-2.06.94z\"/><path d=\"M17.41 7.96l-1.37-1.37c-.4-.4-.92-.59-1.43-.59-.52 0-1.04.2-1.43.59L10.3 9.45l-7.72 7.72c-.78.78-.78 2.05 0 2.83L4 21.41c.39.39.9.59 1.41.59.51 0 1.02-.2 1.41-.59l7.78-7.78 2.81-2.81c.8-.78.8-2.07 0-2.86zM5.41 20L4 18.59l7.72-7.72 1.47 1.35L5.41 20z\"/>\n",
              "  </svg>\n",
              "      </button>\n",
              "      \n",
              "  <style>\n",
              "    .colab-df-container {\n",
              "      display:flex;\n",
              "      flex-wrap:wrap;\n",
              "      gap: 12px;\n",
              "    }\n",
              "\n",
              "    .colab-df-convert {\n",
              "      background-color: #E8F0FE;\n",
              "      border: none;\n",
              "      border-radius: 50%;\n",
              "      cursor: pointer;\n",
              "      display: none;\n",
              "      fill: #1967D2;\n",
              "      height: 32px;\n",
              "      padding: 0 0 0 0;\n",
              "      width: 32px;\n",
              "    }\n",
              "\n",
              "    .colab-df-convert:hover {\n",
              "      background-color: #E2EBFA;\n",
              "      box-shadow: 0px 1px 2px rgba(60, 64, 67, 0.3), 0px 1px 3px 1px rgba(60, 64, 67, 0.15);\n",
              "      fill: #174EA6;\n",
              "    }\n",
              "\n",
              "    [theme=dark] .colab-df-convert {\n",
              "      background-color: #3B4455;\n",
              "      fill: #D2E3FC;\n",
              "    }\n",
              "\n",
              "    [theme=dark] .colab-df-convert:hover {\n",
              "      background-color: #434B5C;\n",
              "      box-shadow: 0px 1px 3px 1px rgba(0, 0, 0, 0.15);\n",
              "      filter: drop-shadow(0px 1px 2px rgba(0, 0, 0, 0.3));\n",
              "      fill: #FFFFFF;\n",
              "    }\n",
              "  </style>\n",
              "\n",
              "      <script>\n",
              "        const buttonEl =\n",
              "          document.querySelector('#df-08b42a28-49f8-42c2-813f-4a77d8279a28 button.colab-df-convert');\n",
              "        buttonEl.style.display =\n",
              "          google.colab.kernel.accessAllowed ? 'block' : 'none';\n",
              "\n",
              "        async function convertToInteractive(key) {\n",
              "          const element = document.querySelector('#df-08b42a28-49f8-42c2-813f-4a77d8279a28');\n",
              "          const dataTable =\n",
              "            await google.colab.kernel.invokeFunction('convertToInteractive',\n",
              "                                                     [key], {});\n",
              "          if (!dataTable) return;\n",
              "\n",
              "          const docLinkHtml = 'Like what you see? Visit the ' +\n",
              "            '<a target=\"_blank\" href=https://colab.research.google.com/notebooks/data_table.ipynb>data table notebook</a>'\n",
              "            + ' to learn more about interactive tables.';\n",
              "          element.innerHTML = '';\n",
              "          dataTable['output_type'] = 'display_data';\n",
              "          await google.colab.output.renderOutput(dataTable, element);\n",
              "          const docLink = document.createElement('div');\n",
              "          docLink.innerHTML = docLinkHtml;\n",
              "          element.appendChild(docLink);\n",
              "        }\n",
              "      </script>\n",
              "    </div>\n",
              "  </div>\n",
              "  "
            ]
          },
          "metadata": {},
          "execution_count": 4
        }
      ]
    },
    {
      "cell_type": "code",
      "source": [
        "#Identificar valores nulos por columna\n",
        "valores_nulos=data.isnull().sum()\n",
        "valores_nulos"
      ],
      "metadata": {
        "id": "-FNevFL4oDmC"
      },
      "execution_count": null,
      "outputs": []
    },
    {
      "cell_type": "code",
      "source": [
        "#Realizamos una copia del dataframe\n",
        "data2=data.copy()"
      ],
      "metadata": {
        "id": "GQjwRJEFouf4"
      },
      "execution_count": 7,
      "outputs": []
    },
    {
      "cell_type": "code",
      "source": [
        "#Primer método de sustitución de valores nulos\n",
        "#Sustituir valores nulos con promedio o media\n",
        "data2[\"salon_ventas\"]=data2[\"salon_ventas\"].fillna(round(data2[\"salon_ventas\"].mean(),1))"
      ],
      "metadata": {
        "id": "yaUV9Nluo5DE"
      },
      "execution_count": 13,
      "outputs": []
    },
    {
      "cell_type": "code",
      "source": [
        "#Corroboramos valores nulos\n",
        "valores_nulos=data2.isnull().sum()\n",
        "valores_nulos"
      ],
      "metadata": {
        "id": "TlZml9qcpQ4y"
      },
      "execution_count": null,
      "outputs": []
    },
    {
      "cell_type": "code",
      "source": [
        "#Segundo método de sustitución de valores nulos\n",
        "#Sustituir valores nulos con mediana\n",
        "data2[\"tarjetas_debito\"]=data2[\"tarjetas_debito\"].fillna(round(data2[\"tarjetas_debito\"].median(),1))"
      ],
      "metadata": {
        "id": "Hku5nAkfpusJ"
      },
      "execution_count": 15,
      "outputs": []
    },
    {
      "cell_type": "code",
      "source": [
        "#Segundo método de sustitución de valores nulos\n",
        "#Sustituir valores nulos con mediana\n",
        "data2[\"tarjetas_credito\"]=data2[\"tarjetas_credito\"].fillna(round(data2[\"tarjetas_credito\"].median(),1))"
      ],
      "metadata": {
        "id": "Ozfp1wnqzoiR"
      },
      "execution_count": 17,
      "outputs": []
    },
    {
      "cell_type": "code",
      "source": [
        "#Tercer método de sustitución de valores nulos\n",
        "#Sustituir valores nulos por un valor numérico en concreto\n",
        "data2[\"otros_medios\"]=data2[\"otros_medios\"].fillna(10)"
      ],
      "metadata": {
        "id": "9Ipx6rJWz0Bj"
      },
      "execution_count": 19,
      "outputs": []
    },
    {
      "cell_type": "code",
      "source": [
        "#Quinto método de sustitución de valores nulos\n",
        "#Sustituir valores nulos por valores no nulos hacia adelante \"forward fill\" (\"ffill\")\n",
        "#Filtro por columnas\n",
        "data2[\"subtotal_ventas_alimentos_bebidas\"]=data2[\"subtotal_ventas_alimentos_bebidas\"].fillna(method=\"ffill\")"
      ],
      "metadata": {
        "id": "oL72JDvM0W8z"
      },
      "execution_count": 20,
      "outputs": []
    },
    {
      "cell_type": "code",
      "source": [
        "#Sexto método de sustitución de valores nulos\n",
        "#Sustituir valores nulos por valores no nulos hacia atrás \"backward fill\" (\"bfill\")\n",
        "#Filtro por columnas\n",
        "data2[\"bebidas\"]=data2[\"bebidas\"].fillna(method=\"bfill\")"
      ],
      "metadata": {
        "id": "f_ShZUFi42R0"
      },
      "execution_count": 21,
      "outputs": []
    },
    {
      "cell_type": "code",
      "source": [
        "#Sexto método de sustitución de valores nulos\n",
        "#Sustituir valores nulos por valores no nulos hacia atrás \"backward fill\" (\"bfill\")\n",
        "#Filtro por columnas\n",
        "data2[\"almacen\"]=data2[\"almacen\"].fillna(method=\"bfill\")"
      ],
      "metadata": {
        "id": "NPvy_aan5ARL"
      },
      "execution_count": 22,
      "outputs": []
    },
    {
      "cell_type": "code",
      "source": [
        "#Sexto método de sustitución de valores nulos\n",
        "#Sustituir valores nulos por valores no nulos hacia atrás \"backward fill\" (\"bfill\")\n",
        "#Filtro por columnas\n",
        "data2[\"panaderia\"]=data2[\"panaderia\"].fillna(method=\"bfill\")"
      ],
      "metadata": {
        "id": "POfhNFJz5Ef4"
      },
      "execution_count": 23,
      "outputs": []
    },
    {
      "cell_type": "code",
      "source": [
        "#Sexto método de sustitución de valores nulos\n",
        "#Sustituir valores nulos por valores no nulos hacia atrás \"backward fill\" (\"bfill\")\n",
        "#Filtro por columnas\n",
        "data2[\"lacteos\"]=data2[\"lacteos\"].fillna(method=\"bfill\")"
      ],
      "metadata": {
        "id": "mS22DcSZ5HWJ"
      },
      "execution_count": 24,
      "outputs": []
    },
    {
      "cell_type": "code",
      "source": [
        "#Sexto método de sustitución de valores nulos\n",
        "#Sustituir valores nulos por valores no nulos hacia atrás \"backward fill\" (\"bfill\")\n",
        "#Filtro por columnas\n",
        "data2[\"lacteos\"]=data2[\"lacteos\"].fillna(method=\"bfill\")"
      ],
      "metadata": {
        "id": "jn4jyW6N5YVB"
      },
      "execution_count": 25,
      "outputs": []
    },
    {
      "cell_type": "code",
      "source": [
        "#Sexto método de sustitución de valores nulos\n",
        "#Sustituir valores nulos por valores no nulos hacia atrás \"backward fill\" (\"bfill\")\n",
        "#Filtro por columnas\n",
        "data2[\"carnes\"]=data2[\"carnes\"].fillna(method=\"bfill\")"
      ],
      "metadata": {
        "id": "_Ru9f2KU5c3d"
      },
      "execution_count": 26,
      "outputs": []
    },
    {
      "cell_type": "code",
      "source": [
        "#Sexto método de sustitución de valores nulos\n",
        "#Sustituir valores nulos por valores no nulos hacia atrás \"backward fill\" (\"bfill\")\n",
        "#Filtro por columnas\n",
        "data2[\"verduleria_fruteria\"]=data2[\"verduleria_fruteria\"].fillna(method=\"bfill\")"
      ],
      "metadata": {
        "id": "30Ud9dxf5fCl"
      },
      "execution_count": 27,
      "outputs": []
    },
    {
      "cell_type": "code",
      "source": [
        "#Sexto método de sustitución de valores nulos\n",
        "#Sustituir valores nulos por valores no nulos hacia atrás \"backward fill\" (\"bfill\")\n",
        "#Filtro por columnas\n",
        "data2[\"alimentos_preparados_rotiseria\"]=data2[\"alimentos_preparados_rotiseria\"].fillna(method=\"bfill\")"
      ],
      "metadata": {
        "id": "8Xqg1RaY5f0q"
      },
      "execution_count": 28,
      "outputs": []
    },
    {
      "cell_type": "code",
      "source": [
        "#Sexto método de sustitución de valores nulos\n",
        "#Sustituir valores nulos por valores no nulos hacia atrás \"backward fill\" (\"bfill\")\n",
        "#Filtro por columnas\n",
        "data2[\"indumentaria_calzado_textiles_hogar\"]=data2[\"indumentaria_calzado_textiles_hogar\"].fillna(method=\"bfill\")"
      ],
      "metadata": {
        "id": "hutcXi4v512i"
      },
      "execution_count": 29,
      "outputs": []
    },
    {
      "cell_type": "code",
      "source": [
        "#Sexto método de sustitución de valores nulos\n",
        "#Sustituir valores nulos por valores no nulos hacia atrás \"backward fill\" (\"bfill\")\n",
        "#Filtro por columnas\n",
        "data2[\"electronicos_articulos_hogar\"]=data2[\"electronicos_articulos_hogar\"].fillna(method=\"bfill\")"
      ],
      "metadata": {
        "id": "UFQgc8Pk7kOh"
      },
      "execution_count": 30,
      "outputs": []
    },
    {
      "cell_type": "code",
      "source": [
        "#Sexto método de sustitución de valores nulos\n",
        "#Sustituir valores nulos por valores no nulos hacia atrás \"backward fill\" (\"bfill\")\n",
        "#Filtro por columnas\n",
        "data2[\"otros\"]=data2[\"otros\"].fillna(method=\"bfill\")"
      ],
      "metadata": {
        "id": "1EJMPZtR7rXL"
      },
      "execution_count": 31,
      "outputs": []
    },
    {
      "cell_type": "code",
      "source": [
        "#Corroboramos valores nulos\n",
        "valores_nulos=data2.isnull().sum()\n",
        "valores_nulos"
      ],
      "metadata": {
        "colab": {
          "base_uri": "https://localhost:8080/"
        },
        "id": "eSB5E3LP70mq",
        "outputId": "4a9a4870-6f00-4d9e-8516-64071fb1ea88"
      },
      "execution_count": 32,
      "outputs": [
        {
          "output_type": "execute_result",
          "data": {
            "text/plain": [
              "indice_tiempo                          0\n",
              "ventas_precios_corrientes              0\n",
              "ventas_precios_constantes              0\n",
              "ventas_totales_canal_venta             0\n",
              "salon_ventas                           0\n",
              "canales_on_line                        0\n",
              "ventas_totales_medio_pago              0\n",
              "efectivo                               0\n",
              "tarjetas_debito                        0\n",
              "tarjetas_credito                       0\n",
              "otros_medios                           0\n",
              "ventas_totales_grupo_articulos         0\n",
              "subtotal_ventas_alimentos_bebidas      0\n",
              "bebidas                                0\n",
              "almacen                                0\n",
              "panaderia                              0\n",
              "lacteos                                0\n",
              "carnes                                 0\n",
              "verduleria_fruteria                    0\n",
              "alimentos_preparados_rotiseria         0\n",
              "articulos_limpieza_perfumeria          0\n",
              "indumentaria_calzado_textiles_hogar    0\n",
              "electronicos_articulos_hogar           0\n",
              "otros                                  0\n",
              "dtype: int64"
            ]
          },
          "metadata": {},
          "execution_count": 32
        }
      ]
    },
    {
      "cell_type": "code",
      "source": [
        "data2.info()"
      ],
      "metadata": {
        "id": "vl3p7GCk72k5"
      },
      "execution_count": null,
      "outputs": []
    },
    {
      "cell_type": "code",
      "source": [
        "#convertir DataFrame a CSV\n",
        "data2.to_csv(\"Ventas_totales.csv\")"
      ],
      "metadata": {
        "id": "4HjN7DLj7___"
      },
      "execution_count": 34,
      "outputs": []
    },
    {
      "cell_type": "code",
      "source": [
        "#Descargar archivo filtrado en CSV\n",
        "from google.colab import files"
      ],
      "metadata": {
        "id": "EIUeXj4T8I7t"
      },
      "execution_count": 35,
      "outputs": []
    },
    {
      "cell_type": "code",
      "source": [
        "files.download(\"Ventas_totales.csv\")"
      ],
      "metadata": {
        "colab": {
          "base_uri": "https://localhost:8080/",
          "height": 17
        },
        "id": "AsyPXCjS8LpT",
        "outputId": "3a34264a-ca7e-479b-c6e4-2392006f51b8"
      },
      "execution_count": 36,
      "outputs": [
        {
          "output_type": "display_data",
          "data": {
            "text/plain": [
              "<IPython.core.display.Javascript object>"
            ],
            "application/javascript": [
              "\n",
              "    async function download(id, filename, size) {\n",
              "      if (!google.colab.kernel.accessAllowed) {\n",
              "        return;\n",
              "      }\n",
              "      const div = document.createElement('div');\n",
              "      const label = document.createElement('label');\n",
              "      label.textContent = `Downloading \"${filename}\": `;\n",
              "      div.appendChild(label);\n",
              "      const progress = document.createElement('progress');\n",
              "      progress.max = size;\n",
              "      div.appendChild(progress);\n",
              "      document.body.appendChild(div);\n",
              "\n",
              "      const buffers = [];\n",
              "      let downloaded = 0;\n",
              "\n",
              "      const channel = await google.colab.kernel.comms.open(id);\n",
              "      // Send a message to notify the kernel that we're ready.\n",
              "      channel.send({})\n",
              "\n",
              "      for await (const message of channel.messages) {\n",
              "        // Send a message to notify the kernel that we're ready.\n",
              "        channel.send({})\n",
              "        if (message.buffers) {\n",
              "          for (const buffer of message.buffers) {\n",
              "            buffers.push(buffer);\n",
              "            downloaded += buffer.byteLength;\n",
              "            progress.value = downloaded;\n",
              "          }\n",
              "        }\n",
              "      }\n",
              "      const blob = new Blob(buffers, {type: 'application/binary'});\n",
              "      const a = document.createElement('a');\n",
              "      a.href = window.URL.createObjectURL(blob);\n",
              "      a.download = filename;\n",
              "      div.appendChild(a);\n",
              "      a.click();\n",
              "      div.remove();\n",
              "    }\n",
              "  "
            ]
          },
          "metadata": {}
        },
        {
          "output_type": "display_data",
          "data": {
            "text/plain": [
              "<IPython.core.display.Javascript object>"
            ],
            "application/javascript": [
              "download(\"download_5f8ab866-d341-447e-9e3c-337dc3a4b530\", \"Ventas_totales.csv\", 18616)"
            ]
          },
          "metadata": {}
        }
      ]
    }
  ]
}